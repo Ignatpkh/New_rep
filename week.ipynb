{
 "cells": [
  {
   "cell_type": "markdown",
   "id": "9da8d097",
   "metadata": {},
   "source": [
    "<img src=\"https://miro.medium.com/max/720/0*KpTS0yinnfblE0MD\" width=\"10%\">"
   ]
  },
  {
   "cell_type": "code",
   "execution_count": 24,
   "id": "1eeb8976",
   "metadata": {},
   "outputs": [],
   "source": [
    "import datetime"
   ]
  },
  {
   "cell_type": "code",
   "execution_count": 25,
   "id": "7f7a86ca",
   "metadata": {},
   "outputs": [],
   "source": [
    "dias = datetime.date(2001, 1, 1)"
   ]
  },
  {
   "cell_type": "code",
   "execution_count": 26,
   "id": "a4f85b69",
   "metadata": {},
   "outputs": [
    {
     "data": {
      "text/plain": [
       "datetime.date"
      ]
     },
     "execution_count": 26,
     "metadata": {},
     "output_type": "execute_result"
    }
   ],
   "source": [
    "type(dias)"
   ]
  },
  {
   "cell_type": "code",
   "execution_count": 4,
   "id": "afde5a5f",
   "metadata": {},
   "outputs": [
    {
     "data": {
      "text/plain": [
       "'00:01'"
      ]
     },
     "execution_count": 4,
     "metadata": {},
     "output_type": "execute_result"
    }
   ],
   "source": [
    "dias.strftime(\"%H:%m\")"
   ]
  },
  {
   "cell_type": "code",
   "execution_count": 5,
   "id": "240a4819",
   "metadata": {},
   "outputs": [
    {
     "data": {
      "text/plain": [
       "['Monday', 'Tuesday', 'Wednesday', 'Thursday', 'Friday', 'Saturday', 'Sunday']"
      ]
     },
     "execution_count": 5,
     "metadata": {},
     "output_type": "execute_result"
    }
   ],
   "source": [
    "days = [datetime.date(2001, 1, i).strftime('%A') for i in range(1,8)]\n",
    "days"
   ]
  },
  {
   "cell_type": "code",
   "execution_count": 6,
   "id": "b7d65ecb",
   "metadata": {},
   "outputs": [],
   "source": [
    "DAYS = ('Monday', 'Tuesday', \n",
    "        'Wednesday', 'Thursday', 'Friday', \n",
    "        'Saturday', 'Sunday')"
   ]
  },
  {
   "cell_type": "code",
   "execution_count": 7,
   "id": "86dc69f6",
   "metadata": {
    "scrolled": true
   },
   "outputs": [
    {
     "data": {
      "text/plain": [
       "['Monday', 'Tuesday', 'Wednesday', 'Thursday', 'Friday', 'Saturday', 'Sunday']"
      ]
     },
     "execution_count": 7,
     "metadata": {},
     "output_type": "execute_result"
    }
   ],
   "source": [
    "days = list(DAYS)\n",
    "days"
   ]
  },
  {
   "cell_type": "code",
   "execution_count": 8,
   "id": "fbe4f668",
   "metadata": {},
   "outputs": [
    {
     "data": {
      "text/plain": [
       "['1', 'Tuesday', 'Wednesday', 'Thursday', 'Friday', 'Saturday', 'Sunday']"
      ]
     },
     "execution_count": 8,
     "metadata": {},
     "output_type": "execute_result"
    }
   ],
   "source": [
    "days[0] = '1'\n",
    "days"
   ]
  },
  {
   "cell_type": "code",
   "execution_count": 9,
   "id": "1783df7e",
   "metadata": {},
   "outputs": [
    {
     "data": {
      "text/plain": [
       "['Monday', 'Tuesday', 'Wednesday', 'Thursday', 'Friday', 'Saturday', 'Sunday']"
      ]
     },
     "execution_count": 9,
     "metadata": {},
     "output_type": "execute_result"
    }
   ],
   "source": [
    "days = list(DAYS)\n",
    "days"
   ]
  },
  {
   "cell_type": "code",
   "execution_count": 10,
   "id": "18b8d646",
   "metadata": {},
   "outputs": [],
   "source": [
    "day = 'Monday'"
   ]
  },
  {
   "cell_type": "code",
   "execution_count": 11,
   "id": "f5cc9b02",
   "metadata": {},
   "outputs": [
    {
     "data": {
      "text/plain": [
       "('M', 'y')"
      ]
     },
     "execution_count": 11,
     "metadata": {},
     "output_type": "execute_result"
    }
   ],
   "source": [
    "day[0], day[-1]"
   ]
  },
  {
   "cell_type": "code",
   "execution_count": 12,
   "id": "b9ab2810",
   "metadata": {},
   "outputs": [
    {
     "data": {
      "text/plain": [
       "('MONDAY', 'monday')"
      ]
     },
     "execution_count": 12,
     "metadata": {},
     "output_type": "execute_result"
    }
   ],
   "source": [
    "day.upper(), day.lower()"
   ]
  },
  {
   "cell_type": "code",
   "execution_count": 13,
   "id": "deffc666",
   "metadata": {
    "collapsed": true
   },
   "outputs": [
    {
     "data": {
      "text/plain": [
       "['__add__',\n",
       " '__class__',\n",
       " '__contains__',\n",
       " '__delattr__',\n",
       " '__dir__',\n",
       " '__doc__',\n",
       " '__eq__',\n",
       " '__format__',\n",
       " '__ge__',\n",
       " '__getattribute__',\n",
       " '__getitem__',\n",
       " '__getnewargs__',\n",
       " '__gt__',\n",
       " '__hash__',\n",
       " '__init__',\n",
       " '__init_subclass__',\n",
       " '__iter__',\n",
       " '__le__',\n",
       " '__len__',\n",
       " '__lt__',\n",
       " '__mod__',\n",
       " '__mul__',\n",
       " '__ne__',\n",
       " '__new__',\n",
       " '__reduce__',\n",
       " '__reduce_ex__',\n",
       " '__repr__',\n",
       " '__rmod__',\n",
       " '__rmul__',\n",
       " '__setattr__',\n",
       " '__sizeof__',\n",
       " '__str__',\n",
       " '__subclasshook__',\n",
       " 'capitalize',\n",
       " 'casefold',\n",
       " 'center',\n",
       " 'count',\n",
       " 'encode',\n",
       " 'endswith',\n",
       " 'expandtabs',\n",
       " 'find',\n",
       " 'format',\n",
       " 'format_map',\n",
       " 'index',\n",
       " 'isalnum',\n",
       " 'isalpha',\n",
       " 'isascii',\n",
       " 'isdecimal',\n",
       " 'isdigit',\n",
       " 'isidentifier',\n",
       " 'islower',\n",
       " 'isnumeric',\n",
       " 'isprintable',\n",
       " 'isspace',\n",
       " 'istitle',\n",
       " 'isupper',\n",
       " 'join',\n",
       " 'ljust',\n",
       " 'lower',\n",
       " 'lstrip',\n",
       " 'maketrans',\n",
       " 'partition',\n",
       " 'removeprefix',\n",
       " 'removesuffix',\n",
       " 'replace',\n",
       " 'rfind',\n",
       " 'rindex',\n",
       " 'rjust',\n",
       " 'rpartition',\n",
       " 'rsplit',\n",
       " 'rstrip',\n",
       " 'split',\n",
       " 'splitlines',\n",
       " 'startswith',\n",
       " 'strip',\n",
       " 'swapcase',\n",
       " 'title',\n",
       " 'translate',\n",
       " 'upper',\n",
       " 'zfill']"
      ]
     },
     "execution_count": 13,
     "metadata": {},
     "output_type": "execute_result"
    }
   ],
   "source": [
    "dir(day) #methods and attributes of an object"
   ]
  },
  {
   "cell_type": "code",
   "execution_count": 14,
   "id": "e5987f5b",
   "metadata": {},
   "outputs": [],
   "source": [
    "import time"
   ]
  },
  {
   "cell_type": "code",
   "execution_count": 15,
   "id": "bbf69ad9",
   "metadata": {},
   "outputs": [
    {
     "name": "stdout",
     "output_type": "stream",
     "text": [
      "Object `time.sleep #documentation` not found.\n"
     ]
    }
   ],
   "source": [
    "?time.sleep #documentation"
   ]
  },
  {
   "cell_type": "code",
   "execution_count": 16,
   "id": "a0563bc7",
   "metadata": {},
   "outputs": [
    {
     "name": "stdout",
     "output_type": "stream",
     "text": [
      " ’®¬ ў гбва®©бвўҐ C ­Ґ Ё¬ҐҐв ¬ҐвЄЁ.\n",
      " ‘ҐаЁ©­л© ­®¬Ґа в®¬ : 3010-A8A3\n",
      "\n",
      " ‘®¤Ґа¦Ё¬®Ґ Ї ЇЄЁ C:\\Users\\Mi\\! Python\\class\\ЋЋЏ\n",
      "\n",
      "19.11.2022  16:21    <DIR>          .\n",
      "19.11.2022  16:21    <DIR>          ..\n",
      "19.11.2022  16:21    <DIR>          .ipynb_checkpoints\n",
      "19.11.2022  16:04             5я433 first class car.ipynb\n",
      "19.11.2022  16:04             8я019 pizza 1.ipynb\n",
      "19.11.2022  16:04           565я144 pizza 2.ipynb\n",
      "19.11.2022  16:04            64я550 pizza_class.ipynb\n",
      "19.11.2022  16:21            19я873 week.ipynb\n",
      "               5 д ©«®ў        663я019 Ў ©в\n",
      "               3 Ї Ї®Є  113я564я094я464 Ў ©в бў®Ў®¤­®\n"
     ]
    }
   ],
   "source": [
    "!dir"
   ]
  },
  {
   "cell_type": "code",
   "execution_count": 17,
   "id": "91e3e31f",
   "metadata": {},
   "outputs": [
    {
     "data": {
      "text/plain": [
       "('Monday', 'Tuesday', 'Wednesday', 'Thursday', 'Friday', 'Saturday', 'Sunday')"
      ]
     },
     "execution_count": 17,
     "metadata": {},
     "output_type": "execute_result"
    }
   ],
   "source": [
    "DAYS "
   ]
  },
  {
   "cell_type": "code",
   "execution_count": 23,
   "id": "1de99dd1",
   "metadata": {},
   "outputs": [
    {
     "name": "stdout",
     "output_type": "stream",
     "text": [
      "Monday\n",
      "Tuesday\n",
      "Wednesday\n",
      "Thursday\n",
      "Friday\n",
      "Saturday\n",
      "Sunday\n"
     ]
    }
   ],
   "source": [
    "for day in days:\n",
    "    print(day)\n",
    "    first_letter = day[0]\n",
    "    if first_letter.upper() == 'S':\n",
    "        print('\\tno\\n\\twork')\n",
    "        #print(r'\\tno\\n\\twork')\n",
    "    time.sleep(1)"
   ]
  },
  {
   "cell_type": "code",
   "execution_count": 27,
   "id": "6515283d",
   "metadata": {},
   "outputs": [
    {
     "data": {
      "text/plain": [
       "{'Monday': 1,\n",
       " 'Tuesday': 2,\n",
       " 'Wednesday': 3,\n",
       " 'Thursday': 4,\n",
       " 'Friday': 5,\n",
       " 'Saturday': 6,\n",
       " 'Sunday': 7}"
      ]
     },
     "execution_count": 27,
     "metadata": {},
     "output_type": "execute_result"
    }
   ],
   "source": [
    "WEEKDAY_TO_NUMBER = {(key:=DAYS[number-1]):(value:=number) for number in range(1,8)}\n",
    "WEEKDAY_TO_NUMBER"
   ]
  },
  {
   "cell_type": "code",
   "execution_count": 20,
   "id": "a5651bc1",
   "metadata": {},
   "outputs": [
    {
     "data": {
      "text/plain": [
       "5"
      ]
     },
     "execution_count": 20,
     "metadata": {},
     "output_type": "execute_result"
    }
   ],
   "source": [
    "WEEKDAY_TO_NUMBER['Friday']"
   ]
  },
  {
   "cell_type": "code",
   "execution_count": 21,
   "id": "113880c3",
   "metadata": {},
   "outputs": [
    {
     "data": {
      "text/plain": [
       "int"
      ]
     },
     "execution_count": 21,
     "metadata": {},
     "output_type": "execute_result"
    }
   ],
   "source": [
    "type(5)"
   ]
  },
  {
   "cell_type": "code",
   "execution_count": 22,
   "id": "799ef073",
   "metadata": {},
   "outputs": [
    {
     "data": {
      "text/plain": [
       "float"
      ]
     },
     "execution_count": 22,
     "metadata": {},
     "output_type": "execute_result"
    }
   ],
   "source": [
    "type(5.0)"
   ]
  },
  {
   "cell_type": "code",
   "execution_count": 41,
   "id": "248121c9",
   "metadata": {},
   "outputs": [
    {
     "data": {
      "text/plain": [
       "(5, 5)"
      ]
     },
     "execution_count": 41,
     "metadata": {},
     "output_type": "execute_result"
    }
   ],
   "source": [
    "int(5.0), int(5.6)"
   ]
  },
  {
   "cell_type": "markdown",
   "id": "5789373c",
   "metadata": {},
   "source": [
    "'5'+str(5), int('5')+5"
   ]
  },
  {
   "cell_type": "code",
   "execution_count": 69,
   "id": "dc87626c",
   "metadata": {},
   "outputs": [
    {
     "data": {
      "text/plain": [
       "'\\nsdfkjsdd\\n    sdrfds\\n'"
      ]
     },
     "execution_count": 69,
     "metadata": {},
     "output_type": "execute_result"
    }
   ],
   "source": [
    "\"\"\"\n",
    "sdfkjsdd\n",
    "    sdrfds\n",
    "\"\"\""
   ]
  },
  {
   "cell_type": "code",
   "execution_count": 30,
   "id": "7e232a31",
   "metadata": {},
   "outputs": [],
   "source": [
    "def get_weekday_number(name :str, start_sun :bool = False) -> int:\n",
    "    \"\"\"This function retuirns number of weekday\"\"\"\n",
    "    number = WEEKDAY_TO_NUMBER[name]\n",
    "    #number = WEEKDAY_TO_NUMBER.get(name, 0) - что подставлять, если ключа нет\n",
    "    if start_sun:\n",
    "        number = (number)%7 + 1\n",
    "    return number\n",
    "\n",
    "# (name :str, start_sun :bool = False) -> int: - пометка на полях "
   ]
  },
  {
   "cell_type": "code",
   "execution_count": 71,
   "id": "049b6db2",
   "metadata": {},
   "outputs": [],
   "source": [
    "get_weekday_number?"
   ]
  },
  {
   "cell_type": "code",
   "execution_count": 65,
   "id": "82fd74df",
   "metadata": {},
   "outputs": [
    {
     "data": {
      "text/plain": [
       "6"
      ]
     },
     "execution_count": 65,
     "metadata": {},
     "output_type": "execute_result"
    }
   ],
   "source": [
    "get_weekday_number('Saturday')"
   ]
  },
  {
   "cell_type": "code",
   "execution_count": 66,
   "id": "5c907041",
   "metadata": {},
   "outputs": [
    {
     "data": {
      "text/plain": [
       "7"
      ]
     },
     "execution_count": 66,
     "metadata": {},
     "output_type": "execute_result"
    }
   ],
   "source": [
    "get_weekday_number('Saturday', start_sun=True)"
   ]
  },
  {
   "cell_type": "code",
   "execution_count": 67,
   "id": "5dad112c",
   "metadata": {},
   "outputs": [
    {
     "data": {
      "text/plain": [
       "[2, 3, 4, 5, 6, 7, 1]"
      ]
     },
     "execution_count": 67,
     "metadata": {},
     "output_type": "execute_result"
    }
   ],
   "source": [
    "[get_weekday_number(d, start_sun=True) for d in DAYS]"
   ]
  },
  {
   "cell_type": "code",
   "execution_count": 73,
   "id": "d355a91a",
   "metadata": {},
   "outputs": [
    {
     "data": {
      "text/plain": [
       "(2, 3, 4, 5, 6, 7, 1)"
      ]
     },
     "execution_count": 73,
     "metadata": {},
     "output_type": "execute_result"
    }
   ],
   "source": [
    "tuple(get_weekday_number(d, start_sun=True) for d in DAYS)\n"
   ]
  },
  {
   "cell_type": "markdown",
   "id": "4c1ce76d",
   "metadata": {},
   "source": [
    "Кортежи (tuple) в Python – это те же списки за одним исключением. Кортежи неизменяемые структуры данных. Так же как списки они могут состоять из элементов разных типов, перечисленных через запятую. Кортежи заключаются в круглые, а не квадратные скобки."
   ]
  },
  {
   "cell_type": "code",
   "execution_count": 77,
   "id": "ebc20269",
   "metadata": {},
   "outputs": [
    {
     "data": {
      "text/plain": [
       "(7, 1)"
      ]
     },
     "execution_count": 77,
     "metadata": {},
     "output_type": "execute_result"
    }
   ],
   "source": [
    "tuple(get_weekday_number(d, start_sun=True) for d in DAYS if d[0]=='S')\n"
   ]
  },
  {
   "cell_type": "markdown",
   "id": "204a802e",
   "metadata": {},
   "source": [
    "(expression(item) for item in items if condition(item))"
   ]
  },
  {
   "cell_type": "code",
   "execution_count": 68,
   "id": "60943817",
   "metadata": {},
   "outputs": [
    {
     "data": {
      "text/plain": [
       "{'Monday': 2,\n",
       " 'Tuesday': 3,\n",
       " 'Wednesday': 4,\n",
       " 'Thursday': 5,\n",
       " 'Friday': 6,\n",
       " 'Saturday': 7,\n",
       " 'Sunday': 1}"
      ]
     },
     "execution_count": 68,
     "metadata": {},
     "output_type": "execute_result"
    }
   ],
   "source": [
    "{d:get_weekday_number(d, start_sun=True) for d in DAYS}"
   ]
  },
  {
   "cell_type": "raw",
   "id": "70fd87f5",
   "metadata": {},
   "source": [
    "# raw text without formating"
   ]
  },
  {
   "cell_type": "markdown",
   "id": "2f2c07d0",
   "metadata": {},
   "source": [
    "* class\n",
    "* object"
   ]
  },
  {
   "cell_type": "code",
   "execution_count": 81,
   "id": "2c3fd38f",
   "metadata": {},
   "outputs": [
    {
     "name": "stdout",
     "output_type": "stream",
     "text": [
      " order number in a week is {get_weekday_number(day)}\n",
      "Monday  order number in a week is 1\n",
      " order number in a week is {get_weekday_number(day)}\n",
      "Tuesday  order number in a week is 2\n",
      " order number in a week is {get_weekday_number(day)}\n",
      "Wednesday  order number in a week is 3\n",
      " order number in a week is {get_weekday_number(day)}\n",
      "Thursday  order number in a week is 4\n",
      " order number in a week is {get_weekday_number(day)}\n",
      "Friday  order number in a week is 5\n",
      " order number in a week is {get_weekday_number(day)}\n",
      "Saturday  order number in a week is 6\n",
      "\tno\n",
      "\twork\n",
      " order number in a week is {get_weekday_number(day)}\n",
      "Sunday  order number in a week is 7\n",
      "\tno\n",
      "\twork\n"
     ]
    }
   ],
   "source": [
    "for day in days:\n",
    "    print(r\" order number in a week is {get_weekday_number(day)}\")\n",
    "    text = f\" order number in a week is {get_weekday_number(day)}\"\n",
    "    print(day, text)\n",
    "    first_letter = day[0]\n",
    "    if first_letter.upper() == 'S':\n",
    "        print(f'\\tno\\n\\twork')\n",
    "        #print(r'\\tno\\n\\twork')\n",
    "    time.sleep(1)"
   ]
  },
  {
   "cell_type": "code",
   "execution_count": 83,
   "id": "bec4776d",
   "metadata": {},
   "outputs": [],
   "source": [
    "def run_week(sun_start=False):\n",
    "    for day in days:\n",
    "        print(r\" order number in a week is {get_weekday_number(day)}\")\n",
    "        text = f\" order number in a week is {\n",
    "(day, sun_start)}\"\n",
    "        print(day, text)\n",
    "        first_letter = day[0]\n",
    "        if first_letter.upper() == 'S':\n",
    "            print(f'\\tno\\n\\twork')\n",
    "            #print(r'\\tno\\n\\twork')\n",
    "        time.sleep(1)"
   ]
  },
  {
   "cell_type": "code",
   "execution_count": 84,
   "id": "23418614",
   "metadata": {},
   "outputs": [
    {
     "name": "stdout",
     "output_type": "stream",
     "text": [
      " order number in a week is {get_weekday_number(day)}\n",
      "Monday  order number in a week is 1\n",
      " order number in a week is {get_weekday_number(day)}\n",
      "Tuesday  order number in a week is 2\n",
      " order number in a week is {get_weekday_number(day)}\n",
      "Wednesday  order number in a week is 3\n",
      " order number in a week is {get_weekday_number(day)}\n",
      "Thursday  order number in a week is 4\n",
      " order number in a week is {get_weekday_number(day)}\n",
      "Friday  order number in a week is 5\n",
      " order number in a week is {get_weekday_number(day)}\n",
      "Saturday  order number in a week is 6\n",
      "\tno\n",
      "\twork\n",
      " order number in a week is {get_weekday_number(day)}\n",
      "Sunday  order number in a week is 7\n",
      "\tno\n",
      "\twork\n"
     ]
    }
   ],
   "source": [
    "run_week()"
   ]
  },
  {
   "cell_type": "code",
   "execution_count": 85,
   "id": "681ee3fa",
   "metadata": {},
   "outputs": [],
   "source": [
    "seven = 7"
   ]
  },
  {
   "cell_type": "code",
   "execution_count": 86,
   "id": "fdd85669",
   "metadata": {},
   "outputs": [
    {
     "data": {
      "text/plain": [
       "int"
      ]
     },
     "execution_count": 86,
     "metadata": {},
     "output_type": "execute_result"
    }
   ],
   "source": [
    "type(seven)"
   ]
  },
  {
   "cell_type": "code",
   "execution_count": 87,
   "id": "5b15cfc3",
   "metadata": {},
   "outputs": [
    {
     "data": {
      "text/plain": [
       "int"
      ]
     },
     "execution_count": 87,
     "metadata": {},
     "output_type": "execute_result"
    }
   ],
   "source": [
    "seven.__class__"
   ]
  },
  {
   "cell_type": "code",
   "execution_count": 88,
   "id": "198bfd73",
   "metadata": {},
   "outputs": [
    {
     "data": {
      "text/plain": [
       "function"
      ]
     },
     "execution_count": 88,
     "metadata": {},
     "output_type": "execute_result"
    }
   ],
   "source": [
    "run_week.__class__"
   ]
  },
  {
   "cell_type": "code",
   "execution_count": 1,
   "id": "58e92df3",
   "metadata": {},
   "outputs": [],
   "source": [
    "#add new code "
   ]
  },
  {
   "cell_type": "code",
   "execution_count": null,
   "id": "843a2de6",
   "metadata": {},
   "outputs": [],
   "source": []
  }
 ],
 "metadata": {
  "kernelspec": {
   "display_name": "Python 3 (ipykernel)",
   "language": "python",
   "name": "python3"
  },
  "language_info": {
   "codemirror_mode": {
    "name": "ipython",
    "version": 3
   },
   "file_extension": ".py",
   "mimetype": "text/x-python",
   "name": "python",
   "nbconvert_exporter": "python",
   "pygments_lexer": "ipython3",
   "version": "3.9.12"
  }
 },
 "nbformat": 4,
 "nbformat_minor": 5
}
